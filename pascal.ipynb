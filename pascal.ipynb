{
 "cells": [
  {
   "cell_type": "code",
   "execution_count": 112,
   "metadata": {},
   "outputs": [],
   "source": [
    "from __future__ import print_function\n",
    "def pascal_triangle(n):\n",
    "    \"\"\"\n",
    "    Returns Pascal's triangle with each odd number in red, and each even number in blue.\n",
    "    \"\"\"\n",
    "    a = []\n",
    "    a1=[1]\n",
    "    for i in range(n):\n",
    "        #initialize list and add '1' to n rows\n",
    "        a.append(a1)\n",
    "        a2=[]\n",
    "        a2.append(1)\n",
    "        for j in range(len(a1)-1):\n",
    "            #finds the value inside the triangle using previous values\n",
    "            tmp = a1[j]+a1[j+1]\n",
    "            a2.append(tmp)\n",
    "        a2.append(a1[-1])\n",
    "        a1=a2\n",
    "    \n",
    "    for i in range(n):\n",
    "        #formats the lists into triangle with appropriate spaces and colors\n",
    "        print(\"   \"*(n-i),end=\" \",sep=\" \")\n",
    "        for j in range(0,i+1):\n",
    "            if (a[i][j]%2 ==0):\n",
    "                color = '\\033[34m'\n",
    "            else:\n",
    "                color = '\\033[31m'\n",
    "            print(color+'{0:6}'.format(a[i][j]),end=\" \",sep=\" \")\n",
    "            \n",
    "        print()"
   ]
  }
 ],
 "metadata": {
  "kernelspec": {
   "display_name": "Python 2",
   "language": "python",
   "name": "python2"
  },
  "language_info": {
   "codemirror_mode": {
    "name": "ipython",
    "version": 2
   },
   "file_extension": ".py",
   "mimetype": "text/x-python",
   "name": "python",
   "nbconvert_exporter": "python",
   "pygments_lexer": "ipython2",
   "version": "2.7.12"
  }
 },
 "nbformat": 4,
 "nbformat_minor": 1
}
